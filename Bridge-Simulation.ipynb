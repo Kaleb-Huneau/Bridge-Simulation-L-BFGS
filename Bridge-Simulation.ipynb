{
 "cells": [
  {
   "cell_type": "markdown",
   "metadata": {},
   "source": [
    "# Bridge Simulation \n",
    "\n",
    "\n"
   ]
  },
  {
   "cell_type": "code",
   "execution_count": 1,
   "metadata": {},
   "outputs": [
    {
     "data": {
      "text/plain": [
       "{'divide': 'warn', 'over': 'warn', 'under': 'ignore', 'invalid': 'warn'}"
      ]
     },
     "execution_count": 1,
     "metadata": {},
     "output_type": "execute_result"
    }
   ],
   "source": [
    "import numpy as np\n",
    "import matplotlib.pyplot as plt\n",
    "import scipy.optimize as opt\n",
    "np.seterr(divide='ignore', invalid='ignore')"
   ]
  },
  {
   "cell_type": "code",
   "execution_count": 2,
   "metadata": {},
   "outputs": [],
   "source": [
    "g = 9.81  #gravity \n",
    "l = 1             # length of tube\n",
    "density = 7000    #kg/meters^3\n",
    "outer_diameter = 0.005 # outer diameter for the tube\n",
    "inner_diameter = 0.004 # inner diameter for the tube\n",
    "k = 200000  # spring stiffness\n",
    "n = 7 #the number of equivalent point masses"
   ]
  },
  {
   "cell_type": "code",
   "execution_count": 3,
   "metadata": {},
   "outputs": [],
   "source": [
    "#Define the point masses for the system\n",
    "nodes = np.array([[0,2],[0.5,2.866],[1,2],[1.5,2.866],[2,2],[2.5,2.866],[3,2]])\n",
    "x = [nodes[i][0] for i in range(len(nodes))]\n",
    "y = [nodes[i][1] for i in range(len(nodes))]\n"
   ]
  },
  {
   "cell_type": "code",
   "execution_count": 4,
   "metadata": {},
   "outputs": [],
   "source": [
    "#connectivity matrix\n",
    "A = np.array([[0,1,1,0,0,0,0],\n",
    "              [1,0,1,1,0,0,0],\n",
    "              [1,1,0,1,1,0,0],\n",
    "              [0,1,1,0,1,1,0],\n",
    "              [0,0,1,1,0,1,1],\n",
    "              [0,0,0,1,1,0,1],\n",
    "              [0,0,0,0,1,1,0]])\n",
    "\n",
    "\n",
    "#spring constant matrix\n",
    "springK = A*k\n",
    "\n",
    "\n",
    "\n",
    "#Calculating the cross-sectional area\n",
    "Area = (np.pi/4)*(outer_diameter**2 - inner_diameter**2)\n",
    "\n",
    "#Calculating the mass per unit length\n",
    "mu0 =  density*Area\n",
    "\n",
    "\n",
    "#find the mass of each point:\n",
    "mass = (1/2)*mu0*l   #equivalent mass for a half tube\n",
    "masses = np.zeros(n)\n",
    "for i in range(n):   #append the equivalent mass times the number of connections a tube has\n",
    "    masses[i] = mass*sum(A[i])\n",
    "\n"
   ]
  },
  {
   "cell_type": "code",
   "execution_count": 5,
   "metadata": {},
   "outputs": [],
   "source": [
    "#define a function for calculating the distance between any two points\n",
    "def dx(A,x,y):\n",
    "    dist = np.zeros((n,n))\n",
    "    for i in range((len(A))):\n",
    "        for j in range(len(A)):\n",
    "            dx = np.sqrt((x[i]-x[j])**2 + (y[i]-y[j])**2)\n",
    "            dist[i][j] = dx\n",
    "    \n",
    "    return A*dist #its multiplied by the connectivity matrix because \n",
    "                  # we only care about the distances between connections\n",
    "\n"
   ]
  },
  {
   "cell_type": "code",
   "execution_count": 6,
   "metadata": {},
   "outputs": [],
   "source": [
    "#define a function that will plot the mass points then draw lines between them\n",
    "def plot_struct(P, title):\n",
    "    \n",
    "    x = [P[i][0] for i in range(len(P))]\n",
    "    y = [P[i][1] for i in range(len(P))]\n",
    "    plt.scatter(x,y)\n",
    "    for i in range(len(x)-1):\n",
    "        plt.plot((x[i],x[i+1]),(y[i],y[i+1]), color = \"black\")\n",
    "    for i in range(len(x)-2):\n",
    "        plt.plot((x[i],x[i+2]),(y[i],y[i+2]), color = \"black\")\n",
    "    \n",
    "    plt.xlim(0,3)\n",
    "    plt.ylim(1,3)\n",
    "    plt.grid()\n",
    "    plt.title(title)\n",
    "    plt.savefig(\"Original_Orientation\")\n",
    "    \n",
    "    return"
   ]
  },
  {
   "cell_type": "code",
   "execution_count": 7,
   "metadata": {},
   "outputs": [],
   "source": [
    "#define a function that will calculate the total potential energy of the system\n",
    "def energyTotal(nodes,masses):#input required is a 1-D position array\n",
    "    y = []\n",
    "    x = []\n",
    "    k = 2000000\n",
    "    for i in range(len(nodes)): #split the 1-d array into separate x and y positions\n",
    "        if i%2 == 0:\n",
    "            x.append(nodes[i])\n",
    "        else:\n",
    "            y.append(nodes[i])\n",
    "    \n",
    "  #Calculating the Grativational Potential Energy\n",
    "    g = 9.81\n",
    "    Egravity = np.zeros(n)\n",
    "    Eg = 0\n",
    "    for i in range(n):\n",
    "        Egravity[i] = masses[i]*g*y[i]\n",
    "        Eg += Egravity[i]\n",
    "\n",
    "  #Calculating the Elastic Potential Energy\n",
    "    Eelastic = np.zeros((n,n))\n",
    "    Ee = 0\n",
    "    distance = dx(A,x,y)\n",
    "    for i in range(n):\n",
    "        for j in range(n):\n",
    "            \n",
    "            Ee += (0.25)*k*((distance[i][j])-1)**2\n",
    "\n",
    "  #Calculating the Total Energy\n",
    "    Etotal = Eg + Ee\n",
    "\n",
    "    return Etotal"
   ]
  },
  {
   "cell_type": "code",
   "execution_count": 8,
   "metadata": {},
   "outputs": [],
   "source": [
    "#set up the boundary conditions for the L-BFGS-B algorithm\n",
    "bounds = [[0,0],[2,2],[None,None],[0,None],                #point 1 is fixed to the wall at [0,2]\n",
    "          [None,None],[0,None],[None,None],[0,None],\n",
    "          [None,None],[0,None],[None,None],[0,None],\n",
    "          [3,3],[2,2]]                                     # point 7 was fixed to the other side at[3,2]"
   ]
  },
  {
   "cell_type": "code",
   "execution_count": 9,
   "metadata": {},
   "outputs": [
    {
     "name": "stdout",
     "output_type": "stream",
     "text": [
      "The bridge has broken because the length of a tube is 1.5273702485158778\n",
      "The connection that broke was between connections 1 and 2\n"
     ]
    }
   ],
   "source": [
    "a = 0\n",
    "while a == 0:        #create a while loop to find the optimal position for the masses, \n",
    "\n",
    "    GreatGatsby = opt.minimize(energyTotal, nodes.ravel(),args = (masses),method='L-BFGS-B',bounds=bounds)\n",
    "    pos=GreatGatsby.x.reshape((-1, 2))\n",
    "    nodes = pos\n",
    "    dist = dx(A,[pos[i][0] for i in range(len(pos))],[pos[i][1] for i in range(len(pos))])\n",
    "    for i in dist.ravel(): # this will check the distances between the connections and determine if they are broken\n",
    "        if i != 0.0:\n",
    "            if i > 1.1 or i < 0.9:\n",
    "                print('The bridge has broken because the length of a tube is',i)\n",
    "                a = i\n",
    "                break\n",
    "    masses[2]+=100 #increase the mass loading on a point and run the loop until the structure breaks\n",
    "\n",
    "joint = np.where(dist == a) #find out which joint was broken\n",
    "joint[0][0] += 1\n",
    "joint[0][1] += 1\n",
    "print(\"The connection that broke was between connections\",joint[0][0],\"and\",joint[0][1])#print results"
   ]
  },
  {
   "cell_type": "code",
   "execution_count": 10,
   "metadata": {},
   "outputs": [
    {
     "data": {
      "image/png": "[encoded data removed]",
      "text/plain": [
       "<Figure size 432x288 with 1 Axes>"
      ]
     },
     "metadata": {
      "needs_background": "light"
     },
     "output_type": "display_data"
    }
   ],
   "source": [
    "#Plotting the truss model using the position before deformation\n",
    "plot_struct(nodes,\"Initial Orientation\")"
   ]
  },
  {
   "cell_type": "code",
   "execution_count": 11,
   "metadata": {},
   "outputs": [
    {
     "name": "stdout",
     "output_type": "stream",
     "text": [
      "[[0.         2.        ]\n",
      " [0.5030326  3.44320997]\n",
      " [0.99988375 1.98450513]\n",
      " [1.5        3.44320997]\n",
      " [2.0001177  2.98449689]\n",
      " [2.4969674  3.44320997]\n",
      " [3.         2.        ]]\n"
     ]
    }
   ],
   "source": [
    "trial = opt.minimize(energyTotal, nodes.ravel(),args = (masses), method = \"L-BFGS-B\",bounds = bounds).x.reshape((-1,2))\n",
    "print(trial)"
   ]
  },
  {
   "cell_type": "code",
   "execution_count": null,
   "metadata": {},
   "outputs": [],
   "source": []
  }
 ],
 "metadata": {
  "kernelspec": {
   "display_name": "Python 3",
   "language": "python",
   "name": "python3"
  },
  "language_info": {
   "codemirror_mode": {
    "name": "ipython",
    "version": 3
   },
   "file_extension": ".py",
   "mimetype": "text/x-python",
   "name": "python",
   "nbconvert_exporter": "python",
   "pygments_lexer": "ipython3",
   "version": "3.8.3"
  }
 },
 "nbformat": 4,
 "nbformat_minor": 2
}
